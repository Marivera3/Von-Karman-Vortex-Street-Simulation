{
 "cells": [
  {
   "cell_type": "code",
   "execution_count": 3,
   "metadata": {},
   "outputs": [],
   "source": [
    "import numpy as np\n",
    "import sympy as sp\n",
    "import pylbm\n",
    "import time\n",
    "from ipywidgets import interact, interactive, Layout\n",
    "%matplotlib inline"
   ]
  },
  {
   "cell_type": "code",
   "execution_count": 6,
   "metadata": {},
   "outputs": [],
   "source": [
    "def runVortexSim(NReynolds, TiempoFinal, densidad):\n",
    "\n",
    "    print('Cargando...')\n",
    "    X, Y, LA = sp.symbols('X, Y, LA')\n",
    "    rho, qx, qy = sp.symbols('rho, qx, qy')\n",
    "    def bc_in(f, m, x, y):\n",
    "        m[qx] = rhoo * v0\n",
    "\n",
    "    def vorticity(sol):\n",
    "        ux = sol.m[qx] / sol.m[rho]\n",
    "        uy = sol.m[qy] / sol.m[rho]\n",
    "        V = np.abs(uy[2:,1:-1] - uy[0:-2,1:-1] - ux[1:-1,2:] + ux[1:-1,0:-2])/(2*sol.domain.dx)\n",
    "        return -V\n",
    "\n",
    "    rayon = 0.05\n",
    "    Re = NReynolds\n",
    "    dx = 1./128 # spatial step\n",
    "    la = 1. # velocity of the scheme\n",
    "    Tf = TiempoFinal # final time of the simulation\n",
    "    v0 = la/20 # maximal velocity obtained in the middle of the channel\n",
    "    rhoo = densidad # mean value of the density\n",
    "    mu = 1.e-3 # bulk viscosity\n",
    "    eta = rhoo*v0*2*rayon/Re # shear viscosity\n",
    "\n",
    "    # initialization\n",
    "    xmin, xmax, ymin, ymax = 0., 3., 0., 1.\n",
    "    dummy = 3.0/(la*rhoo*dx)\n",
    "    s_mu = 1.0/(0.5+mu*dummy)\n",
    "    s_eta = 1.0/(0.5+eta*dummy)\n",
    "    s_q = s_eta\n",
    "    s_es = s_mu\n",
    "    s = [0.,0.,0.,s_mu,s_es,s_q,s_q,s_eta,s_eta]\n",
    "    dummy = 1./(LA**2*rhoo)\n",
    "    qx2 = dummy*qx**2\n",
    "    qy2 = dummy*qy**2\n",
    "    q2 = qx2+qy2\n",
    "    qxy = dummy*qx*qy\n",
    "\n",
    "\n",
    "    dico = {\n",
    "        'box': {'x': [xmin, xmax],\n",
    "                'y': [ymin, ymax],\n",
    "                'label': [0, 2, 0, 0]\n",
    "                },\n",
    "        'elements': [pylbm.Circle([.3, 0.5*(ymin+ymax)+dx], rayon, label=1)],\n",
    "        'space_step': dx,\n",
    "        'scheme_velocity': la,\n",
    "        'parameters': {LA: la},\n",
    "        'schemes': [\n",
    "            {\n",
    "                'velocities': list(range(9)),\n",
    "                'conserved_moments': [rho, qx, qy],\n",
    "                'polynomials': [\n",
    "                    1, LA*X, LA*Y,\n",
    "                    3*(X**2+Y**2)-4,\n",
    "                    (9*(X**2+Y**2)**2-21*(X**2+Y**2)+8)/2,\n",
    "                    3*X*(X**2+Y**2)-5*X, 3*Y*(X**2+Y**2)-5*Y,\n",
    "                    X**2-Y**2, X*Y\n",
    "                ],\n",
    "                'relaxation_parameters': s,\n",
    "                'equilibrium': [\n",
    "                    rho, qx, qy,\n",
    "                    -2*rho + 3*q2,\n",
    "                    rho-3*q2,\n",
    "                    -qx/LA, -qy/LA,\n",
    "                    qx2-qy2, qxy\n",
    "                ],\n",
    "            },\n",
    "        ],\n",
    "        'init': {rho:rhoo,\n",
    "                qx:0.,\n",
    "                qy:0.\n",
    "        },\n",
    "        'boundary_conditions': {\n",
    "            0: {'method': {0: pylbm.bc.BouzidiBounceBack}, 'value': bc_in},\n",
    "            1: {'method': {0: pylbm.bc.BouzidiBounceBack}},\n",
    "            2: {'method': {0: pylbm.bc.NeumannX}},\n",
    "        },\n",
    "        'generator': 'cython',\n",
    "    }\n",
    "    print('Esto puede tardar unos minutos...')\n",
    "    sol = pylbm.Simulation(dico)\n",
    "    while sol.t < Tf:\n",
    "        sol.one_time_step()\n",
    "\n",
    "    print('Listo')\n",
    "    viewer = pylbm.viewer.matplotlib_viewer\n",
    "    fig = viewer.Fig(figsize=(12, 8))\n",
    "    ax = fig[0]\n",
    "    im = ax.image(vorticity(sol).transpose(), clim = [-3., 0])\n",
    "    ax.ellipse([.3/dx, 0.5*(ymin+ymax)/dx], [rayon/dx,rayon/dx], 'r')\n",
    "    ax.title = 'Calle de Vortice de Von Karman: t = {:.0f} [s], Re = {:.0f}'.format(sol.t, Re)\n",
    "    fig.show()"
   ]
  },
  {
   "cell_type": "code",
   "execution_count": null,
   "metadata": {},
   "outputs": [
    {
     "data": {
      "application/vnd.jupyter.widget-view+json": {
       "model_id": "1fcb91a3d9ba4924a699b39707bbc305",
       "version_major": 2,
       "version_minor": 0
      },
      "text/plain": [
       "interactive(children=(IntSlider(value=3991, description='NReynolds', layout=Layout(width='500px'), max=8000, m…"
      ]
     },
     "metadata": {},
     "output_type": "display_data"
    }
   ],
   "source": [
    "interactive_plot = interactive(runVortexSim, NReynolds=(1, 8000, 10), TiempoFinal=(0.1, 100, 1), densidad=(0.1, 3, 0.1))\n",
    "\n",
    "# interactive_plot.children[0].value = 1000;\n",
    "# interactive_plot.children[1].value = 65;\n",
    "# interactive_plot.children[2].value = 1;\n",
    "\n",
    "interactive_plot.children[0].layout = Layout(width='500px')\n",
    "interactive_plot.children[1].layout = Layout(width='500px')\n",
    "interactive_plot.children[2].layout = Layout(width='500px')\n",
    "\n",
    "\n",
    "# interactive_plot.children[0].description = 'Numero de Reynolds';\n",
    "\n",
    "output = interactive_plot.children[-1]\n",
    "output.layout.height = '600px'\n",
    "interactive_plot"
   ]
  },
  {
   "cell_type": "code",
   "execution_count": null,
   "metadata": {},
   "outputs": [],
   "source": []
  }
 ],
 "metadata": {
  "kernelspec": {
   "display_name": "Python 3",
   "language": "python",
   "name": "python3"
  },
  "language_info": {
   "codemirror_mode": {
    "name": "ipython",
    "version": 3
   },
   "file_extension": ".py",
   "mimetype": "text/x-python",
   "name": "python",
   "nbconvert_exporter": "python",
   "pygments_lexer": "ipython3",
   "version": "3.7.9"
  }
 },
 "nbformat": 4,
 "nbformat_minor": 4
}
